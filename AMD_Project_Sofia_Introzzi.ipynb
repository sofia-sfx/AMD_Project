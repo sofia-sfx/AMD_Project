{
  "cells": [
    {
      "cell_type": "markdown",
      "metadata": {
        "id": "view-in-github",
        "colab_type": "text"
      },
      "source": [
        "<a href=\"https://colab.research.google.com/github/sofia-sfx/AMD_Project/blob/main/AMD_Project_Sofia_Introzzi.ipynb\" target=\"_parent\"><img src=\"https://colab.research.google.com/assets/colab-badge.svg\" alt=\"Open In Colab\"/></a>"
      ]
    },
    {
      "cell_type": "markdown",
      "metadata": {
        "id": "8y7UIOO5NdDP"
      },
      "source": [
        "Apriori implementation for Market Basket Analysis"
      ]
    },
    {
      "cell_type": "markdown",
      "metadata": {
        "id": "ly_shpaRt3KJ"
      },
      "source": [
        "# Packages"
      ]
    },
    {
      "cell_type": "code",
      "execution_count": 5,
      "metadata": {
        "colab": {
          "base_uri": "https://localhost:8080/"
        },
        "id": "vE_-Ab4Q95Uo",
        "outputId": "63add62d-ab18-4c4d-992a-a7bb31f69633"
      },
      "outputs": [
        {
          "output_type": "stream",
          "name": "stdout",
          "text": [
            "\u001b[K     |████████████████████████████████| 281.4 MB 43 kB/s \n",
            "\u001b[K     |████████████████████████████████| 199 kB 34.8 MB/s \n",
            "\u001b[?25h  Building wheel for pyspark (setup.py) ... \u001b[?25l\u001b[?25hdone\n"
          ]
        }
      ],
      "source": [
        "!pip install -q pyspark"
      ]
    },
    {
      "cell_type": "code",
      "execution_count": 6,
      "metadata": {
        "id": "vSeRE2kb9-Fq"
      },
      "outputs": [],
      "source": [
        "!pip install -q kaggle"
      ]
    },
    {
      "cell_type": "code",
      "execution_count": 7,
      "metadata": {
        "id": "aK56J6IP-fuk"
      },
      "outputs": [],
      "source": [
        "import os "
      ]
    },
    {
      "cell_type": "code",
      "execution_count": 8,
      "metadata": {
        "id": "Jl1odyHy8Zfy"
      },
      "outputs": [],
      "source": [
        "os.environ[\"KAGGLE_USERNAME\"] = \"sofiaintrozzi\"\n",
        "os.environ[\"KAGGLE_KEY\"] = \"b4c95dfeaa91c11c57a97eb854a2cf0b\""
      ]
    },
    {
      "cell_type": "markdown",
      "metadata": {
        "id": "pT8_3p1ft_Ve"
      },
      "source": [
        "# Dataset import"
      ]
    },
    {
      "cell_type": "code",
      "execution_count": 9,
      "metadata": {
        "id": "6MyBOW-GFTqh"
      },
      "outputs": [],
      "source": [
        "import pandas as pd \n",
        "import numpy as np\n",
        "import csv"
      ]
    },
    {
      "cell_type": "code",
      "execution_count": 10,
      "metadata": {
        "colab": {
          "base_uri": "https://localhost:8080/"
        },
        "id": "JY4aM3Wi7QY4",
        "outputId": "1fe02a96-d08c-4738-e816-6f69867b386f"
      },
      "outputs": [
        {
          "output_type": "stream",
          "name": "stdout",
          "text": [
            "Downloading ukraine-russian-crisis-twitter-dataset-1-2-m-rows.zip to /content\n",
            "100% 13.2G/13.2G [01:09<00:00, 252MB/s]\n",
            "100% 13.2G/13.2G [01:09<00:00, 203MB/s]\n"
          ]
        }
      ],
      "source": [
        "!kaggle datasets download -d bwandowando/ukraine-russian-crisis-twitter-dataset-1-2-m-rows --unzip"
      ]
    },
    {
      "cell_type": "code",
      "execution_count": 11,
      "metadata": {
        "id": "eJYo70MNZBd5"
      },
      "outputs": [],
      "source": [
        "pd.set_option(\"display.max_columns\", 10)\n",
        "df = pd.read_csv('/content/0928_UkraineCombinedTweetsDeduped.csv.gzip', compression='gzip', index_col=0, encoding='utf-8', quoting=csv.QUOTE_ALL)"
      ]
    },
    {
      "cell_type": "code",
      "execution_count": 12,
      "metadata": {
        "colab": {
          "base_uri": "https://localhost:8080/"
        },
        "id": "O9ZZkK50ZYtP",
        "outputId": "c0df95f0-ace8-4ab1-b0ed-99571b25401a"
      },
      "outputs": [
        {
          "output_type": "execute_result",
          "data": {
            "text/plain": [
              "10976"
            ]
          },
          "metadata": {},
          "execution_count": 12
        }
      ],
      "source": [
        "data = df[df['language']=='de']['text']"
      ]
    },
    {
      "cell_type": "markdown",
      "metadata": {
        "id": "ZcT2WQ-Zq736"
      },
      "source": [
        "# Spark Session and RDD"
      ]
    },
    {
      "cell_type": "code",
      "execution_count": 13,
      "metadata": {
        "colab": {
          "base_uri": "https://localhost:8080/",
          "height": 219
        },
        "id": "a9zbBLm21rHw",
        "outputId": "dbd4aeb5-5746-4a17-90b3-c2dc08976302"
      },
      "outputs": [
        {
          "output_type": "execute_result",
          "data": {
            "text/plain": [
              "<pyspark.sql.session.SparkSession at 0x7fb166a16790>"
            ],
            "text/html": [
              "\n",
              "            <div>\n",
              "                <p><b>SparkSession - in-memory</b></p>\n",
              "                \n",
              "        <div>\n",
              "            <p><b>SparkContext</b></p>\n",
              "\n",
              "            <p><a href=\"http://9a336b09da1d:4040\">Spark UI</a></p>\n",
              "\n",
              "            <dl>\n",
              "              <dt>Version</dt>\n",
              "                <dd><code>v3.3.1</code></dd>\n",
              "              <dt>Master</dt>\n",
              "                <dd><code>local[*]</code></dd>\n",
              "              <dt>AppName</dt>\n",
              "                <dd><code>test</code></dd>\n",
              "            </dl>\n",
              "        </div>\n",
              "        \n",
              "            </div>\n",
              "        "
            ]
          },
          "metadata": {},
          "execution_count": 13
        }
      ],
      "source": [
        "from pyspark.sql import SparkSession\n",
        "spark = SparkSession.builder.appName(\"test\").master(\"local[*]\").getOrCreate()\n",
        "sc = spark.sparkContext\n",
        "spark"
      ]
    },
    {
      "cell_type": "code",
      "execution_count": 14,
      "metadata": {
        "colab": {
          "base_uri": "https://localhost:8080/"
        },
        "id": "fXrprC0btz-P",
        "outputId": "627a238f-d157-43b6-e19b-59520d0eb0e4"
      },
      "outputs": [
        {
          "output_type": "execute_result",
          "data": {
            "text/plain": [
              "2"
            ]
          },
          "metadata": {},
          "execution_count": 14
        }
      ],
      "source": [
        "rdd = sc.parallelize(data)\n",
        "rdd.getNumPartitions()"
      ]
    },
    {
      "cell_type": "code",
      "execution_count": 15,
      "metadata": {
        "colab": {
          "base_uri": "https://localhost:8080/"
        },
        "id": "Q_OSw8Y2ANzr",
        "outputId": "9dd152f3-d04f-41aa-fba8-f9fc2a33102b"
      },
      "outputs": [
        {
          "output_type": "execute_result",
          "data": {
            "text/plain": [
              "['@KonstantinNotz @JanaSchimke Geht die Frage auch an den ukrainischen Präsidenten oder kommt da die berühmte Grüne Doppelmoral zum Tragen? #Ukraine #Italien #Meloni https://t.co/cqgL1JJOZc',\n",
              " '@Armin__Hermann @LViehler Danach beißen sie die #Nordstream Rohre auf… https://t.co/USNocQ2dr4']"
            ]
          },
          "metadata": {},
          "execution_count": 15
        }
      ],
      "source": [
        "rdd.take(2)"
      ]
    },
    {
      "cell_type": "markdown",
      "metadata": {
        "id": "8TrNKuFEELqG"
      },
      "source": [
        "# Pre-processing  "
      ]
    },
    {
      "cell_type": "code",
      "execution_count": 16,
      "metadata": {
        "colab": {
          "base_uri": "https://localhost:8080/"
        },
        "id": "nyAUPLhBY5u3",
        "outputId": "f70217c7-18a4-4e3a-b818-3e26692c0d18"
      },
      "outputs": [
        {
          "output_type": "stream",
          "name": "stderr",
          "text": [
            "[nltk_data] Downloading package stopwords to /root/nltk_data...\n",
            "[nltk_data]   Unzipping corpora/stopwords.zip.\n",
            "[nltk_data] Downloading package punkt to /root/nltk_data...\n",
            "[nltk_data]   Unzipping tokenizers/punkt.zip.\n",
            "[nltk_data] Downloading package omw-1.4 to /root/nltk_data...\n",
            "[nltk_data] Downloading package wordnet to /root/nltk_data...\n"
          ]
        }
      ],
      "source": [
        "from itertools import combinations\n",
        "\n",
        "import string\n",
        "puncts = set(string.punctuation)\n",
        "import nltk\n",
        "nltk.download(\"stopwords\")\n",
        "from nltk.corpus import stopwords\n",
        "stopwords = stopwords.words(\"german\")\n",
        "from nltk.tokenize import word_tokenize\n",
        "nltk.download(\"punkt\")\n",
        "nltk.download(\"omw-1.4\")\n",
        "from nltk.stem import WordNetLemmatizer\n",
        "nltk.download(\"wordnet\") \n",
        "lemmatizer = WordNetLemmatizer()"
      ]
    },
    {
      "cell_type": "code",
      "execution_count": 17,
      "metadata": {
        "id": "P8CtZjHrms_-"
      },
      "outputs": [],
      "source": [
        "def pre_process(tweets):\n",
        "  text = nltk.word_tokenize(tweets, language = 'german')\n",
        "  text = [w for w in text if not w in stopwords] \n",
        "  text = [lemmatizer.lemmatize(word) for word in text] \n",
        "  text = \" \".join([w for w in text if w not in puncts]) \n",
        "  text = text.lower()\n",
        "  text = text.split()\n",
        "  return text"
      ]
    },
    {
      "cell_type": "code",
      "execution_count": 18,
      "metadata": {
        "id": "j9OMVhSb8A2V"
      },
      "outputs": [],
      "source": [
        "preprocessed_rdd = rdd.map(pre_process)"
      ]
    },
    {
      "cell_type": "markdown",
      "metadata": {
        "id": "xHJjfjhT0ODm"
      },
      "source": [
        "# Algorithm Implementation"
      ]
    },
    {
      "cell_type": "markdown",
      "metadata": {
        "id": "O-dYexfZNgs1"
      },
      "source": [
        "## First  "
      ]
    },
    {
      "cell_type": "code",
      "execution_count": 19,
      "metadata": {
        "id": "bGQI4cmFIBGl"
      },
      "outputs": [],
      "source": [
        "plain_rdd = (preprocessed_rdd.flatMap(lambda tw: tw)\n",
        "                                  .map(lambda w: (w, 1))\n",
        "                                  .reduceByKey(lambda w1, w2: 1)\n",
        "                                  .map(lambda x: x[0])\n",
        "                                  .collect())"
      ]
    },
    {
      "cell_type": "code",
      "execution_count": 20,
      "metadata": {
        "id": "Cmt34W97Y1jw"
      },
      "outputs": [],
      "source": [
        "dizionario = dict(zip(plain_rdd, range(len(plain_rdd))))"
      ]
    },
    {
      "cell_type": "code",
      "execution_count": 21,
      "metadata": {
        "id": "REeOUHlbZg7b"
      },
      "outputs": [],
      "source": [
        "def convert(testo):\n",
        "  listaint = [None] * len(testo)\n",
        "  \n",
        "  for index in range(len(testo)):\n",
        "    word = testo[index]\n",
        "    for k, v in dizionario.items(): \n",
        "      if k == word:\n",
        "        listaint[index] = v\n",
        " \n",
        "  return listaint "
      ]
    },
    {
      "cell_type": "code",
      "execution_count": 22,
      "metadata": {
        "id": "Wavel5y2ZxW-"
      },
      "outputs": [],
      "source": [
        "rdd_int = preprocessed_rdd.flatMap(convert)"
      ]
    },
    {
      "cell_type": "code",
      "execution_count": 23,
      "metadata": {
        "id": "Yd2oj2LhDTeA"
      },
      "outputs": [],
      "source": [
        "count_singletons = (rdd_int.map(lambda index: (index, 1))\n",
        "                           .reduceByKey(lambda x1, x2: x1+x2))"
      ]
    },
    {
      "cell_type": "markdown",
      "metadata": {
        "id": "26VbVxqkfEY4"
      },
      "source": [
        "## Between the passes"
      ]
    },
    {
      "cell_type": "code",
      "execution_count": 24,
      "metadata": {
        "id": "nbUCBaQaPj__"
      },
      "outputs": [],
      "source": [
        "s = len(plain_rdd) * 0.01"
      ]
    },
    {
      "cell_type": "code",
      "execution_count": 25,
      "metadata": {
        "id": "jDtyEWBTPj4L"
      },
      "outputs": [],
      "source": [
        "frequent_word2int = count_singletons.filter(lambda x: x[1] >= s)"
      ]
    },
    {
      "cell_type": "markdown",
      "metadata": {
        "id": "y9lDoi9klfXI"
      },
      "source": [
        "## Second "
      ]
    },
    {
      "cell_type": "code",
      "source": [
        "def count_freq(rdd):\n",
        "  return (rdd.flatMap(lambda w: w)\n",
        "             .map(lambda w: (w, 1))\n",
        "             .reduceByKey(lambda x1, x2: x1+x2)\n",
        "             .filter(lambda x: x[1] >= s))"
      ],
      "metadata": {
        "id": "u6TR_HbJjDEg"
      },
      "execution_count": 72,
      "outputs": []
    },
    {
      "cell_type": "code",
      "source": [
        "frequent_singletons = count_freq(preprocessed_rdd).map(lambda x: x[0]).collect() "
      ],
      "metadata": {
        "id": "w8n9ky7-pcjT"
      },
      "execution_count": 67,
      "outputs": []
    },
    {
      "cell_type": "code",
      "execution_count": 29,
      "metadata": {
        "id": "0RYJSMlb8ife"
      },
      "outputs": [],
      "source": [
        "def scan(basket):\n",
        "  basket = [w for w in basket if w in frequent_singletons]\n",
        "  return basket"
      ]
    },
    {
      "cell_type": "code",
      "source": [
        "rdd_int_basket = (preprocessed_rdd.map(scan)\n",
        "                                 .map(convert))"
      ],
      "metadata": {
        "id": "cYFk61xpZq3v"
      },
      "execution_count": 153,
      "outputs": []
    },
    {
      "cell_type": "code",
      "source": [
        "rdd_unique_in_basket = rdd_int_basket.map(lambda x: tuple(np.unique(x)))"
      ],
      "metadata": {
        "id": "A_yZsX2BolzM"
      },
      "execution_count": 31,
      "outputs": []
    },
    {
      "cell_type": "markdown",
      "metadata": {
        "id": "VRqmm0NyxYyX"
      },
      "source": [
        "## Itemsets - Pairs "
      ]
    },
    {
      "cell_type": "code",
      "execution_count": 148,
      "metadata": {
        "id": "5IAZEE22EAKE"
      },
      "outputs": [],
      "source": [
        "def generate_set2(basket, r=2):\n",
        "  basket = [comb for comb in combinations(basket, r)]\n",
        "  return basket"
      ]
    },
    {
      "cell_type": "code",
      "source": [
        "count_pairs = count_freq(rdd_unique_in_basket.map(generate_set2)).sortBy(lambda x: -x[1])"
      ],
      "metadata": {
        "id": "5Jww6YGyPa4T"
      },
      "execution_count": 149,
      "outputs": []
    },
    {
      "cell_type": "code",
      "execution_count": 151,
      "metadata": {
        "colab": {
          "base_uri": "https://localhost:8080/"
        },
        "id": "abSGvbRI31EF",
        "outputId": "8df8f742-4b94-4087-c6c8-b68692cbc41d"
      },
      "outputs": [
        {
          "output_type": "execute_result",
          "data": {
            "text/plain": [
              "32"
            ]
          },
          "metadata": {},
          "execution_count": 151
        }
      ],
      "source": [
        "count_pairs.count()"
      ]
    },
    {
      "cell_type": "markdown",
      "metadata": {
        "id": "CG84pgD9xfGd"
      },
      "source": [
        "## Itemsets - Triples "
      ]
    },
    {
      "cell_type": "code",
      "execution_count": 145,
      "metadata": {
        "id": "tg5JchBb9vCA"
      },
      "outputs": [],
      "source": [
        "def generate_set3(basket, r=3):\n",
        "  basket = [comb for comb in combinations(basket, r)]\n",
        "  return basket"
      ]
    },
    {
      "cell_type": "code",
      "source": [
        "count_triples = count_freq(rdd_unique_in_basket.map(generate_set3)).sortBy(lambda x: -x[1])"
      ],
      "metadata": {
        "id": "obdla7KANehF"
      },
      "execution_count": 146,
      "outputs": []
    },
    {
      "cell_type": "code",
      "source": [
        "count_triples.count()"
      ],
      "metadata": {
        "colab": {
          "base_uri": "https://localhost:8080/"
        },
        "id": "GLkkZ5fnuxkl",
        "outputId": "477fd948-e33d-47f9-97be-13daa1321deb"
      },
      "execution_count": 134,
      "outputs": [
        {
          "output_type": "execute_result",
          "data": {
            "text/plain": [
              "3"
            ]
          },
          "metadata": {},
          "execution_count": 134
        }
      ]
    },
    {
      "cell_type": "markdown",
      "metadata": {
        "id": "W0R20kMgaQ62"
      },
      "source": [
        "# Measure Confidence and Interest"
      ]
    },
    {
      "cell_type": "code",
      "execution_count": 98,
      "metadata": {
        "colab": {
          "base_uri": "https://localhost:8080/"
        },
        "id": "KziDDdD6w7S2",
        "outputId": "a6413313-e217-4d18-cb1e-75485a7a8a69"
      },
      "outputs": [
        {
          "output_type": "execute_result",
          "data": {
            "text/plain": [
              "{(20, 17953, 17994): 591, (86, 88, 17953): 440, (20, 86, 88): 437}"
            ]
          },
          "metadata": {},
          "execution_count": 98
        }
      ],
      "source": [
        "single_supp = {(k):v for k,v in count_singletons.collect()}\n",
        "double_supp = {(k):v for k,v in count_pairs.collect()}\n",
        "triple_supp = {(k):v for k,v in count_triples.collect()}\n",
        "triple_supp"
      ]
    },
    {
      "cell_type": "code",
      "execution_count": 112,
      "metadata": {
        "id": "d428jkI-inX0"
      },
      "outputs": [],
      "source": [
        "def make_confidence_interest(target):\n",
        "  if target in triple_supp.keys():\n",
        "    supp_IuJ = triple_supp[target]\n",
        "    if target[:-1] in double_supp.keys():\n",
        "      supp_I = double_supp[target[:-1]]\n",
        "      confidence = supp_IuJ/supp_I\n",
        "      if target[2] in single_supp.keys():\n",
        "        supp_j = single_supp[target[2]]\n",
        "      interest = confidence - supp_j/len(data)\n",
        "      return confidence, interest"
      ]
    },
    {
      "cell_type": "code",
      "execution_count": 100,
      "metadata": {
        "colab": {
          "base_uri": "https://localhost:8080/"
        },
        "id": "9w20D7b-jQ5h",
        "outputId": "7395220e-4a07-4a0a-9f1b-bc4989a54404"
      },
      "outputs": [
        {
          "output_type": "execute_result",
          "data": {
            "text/plain": [
              "(0.3265193370165746, 0.1730025731681781)"
            ]
          },
          "metadata": {},
          "execution_count": 100
        }
      ],
      "source": [
        "target = (20, 17953, 17994)\n",
        "make_confidence_interest(target)"
      ]
    },
    {
      "cell_type": "code",
      "execution_count": 101,
      "metadata": {
        "id": "WotNxIv8I00E",
        "colab": {
          "base_uri": "https://localhost:8080/"
        },
        "outputId": "42eb8c49-9d74-4245-818d-62965852008c"
      },
      "outputs": [
        {
          "output_type": "execute_result",
          "data": {
            "text/plain": [
              "(0.45267489711934156, -0.006782099965206567)"
            ]
          },
          "metadata": {},
          "execution_count": 101
        }
      ],
      "source": [
        "target = (86, 88, 17953)\n",
        "make_confidence_interest(target)"
      ]
    }
  ],
  "metadata": {
    "colab": {
      "collapsed_sections": [
        "ly_shpaRt3KJ"
      ],
      "provenance": [],
      "authorship_tag": "ABX9TyP9hzBJdzBlGRMLuM/9kKOo",
      "include_colab_link": true
    },
    "kernelspec": {
      "display_name": "Python 3",
      "name": "python3"
    },
    "language_info": {
      "name": "python"
    }
  },
  "nbformat": 4,
  "nbformat_minor": 0
}